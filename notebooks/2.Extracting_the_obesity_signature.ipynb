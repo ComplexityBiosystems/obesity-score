{
 "cells": [
  {
   "cell_type": "markdown",
   "metadata": {},
   "source": [
    "# 2. Extracting the Obesity Signature\n",
    "This notebook is the second one of a series that show how to extract a **robust** transcriptomic signature of obesity from four adipose-tissue data sets or **batches**. The series is sctructured as follows:\n",
    "\n",
    "\n",
    "1. [Two-step SVD-filtering to remove batch-effects](1. Two-step SVD-filtering to remove batch effects.ipynb)  \n",
    "2. [**Extracting the Obesity Signature**](#2.-Extracting-the-Obesity-Signature)  \n",
    "    2.1 [Load gene-expression data for batches 1-4](#2.1-Load-gene-expression-data-for-batches-1-4)  \n",
    "    2.2 [Compute first principal component](#2.2-Compute-first-principal-component)  \n",
    "    2.3 [Set a statistical significance threshold](#2.3-Set-a-statistical-significance-threshold)  \n",
    "    2.4 [Plot signature](#2.4-Plot-signature)  \n",
    "    2.5 [Save signature](#2.5-Save-signature)  \n",
    "3. [The Obesity Signature correlates with Body Mass Index](3. The Obesity Signature correlates with Body Mass Index.ipynb)  \n",
    "4. [Identifying deregulated pathways](4. Identifying deregulated pathways.ipynb)\n",
    "5. [Overview of genes in the signature](5. Overview of genes in the signature.ipynb)  \n",
    "\n",
    "    "
   ]
  },
  {
   "cell_type": "code",
   "execution_count": 1,
   "metadata": {},
   "outputs": [
    {
     "name": "stdout",
     "output_type": "stream",
     "text": [
      "Francesc Font-Clos 06/12/2017 12:39:22 \n",
      "\n",
      "CPython 2.7.13\n",
      "IPython 5.3.0\n",
      "\n",
      "numpy 1.12.1\n",
      "pandas 0.20.1\n",
      "scikit-learn 0.18.1\n",
      "matplotlib 2.0.0\n",
      "seaborn 0.7.1\n",
      "scipy 0.19.0\n",
      "\n",
      "compiler   : GCC 4.2.1 Compatible Apple LLVM 6.0 (clang-600.0.57)\n",
      "system     : Darwin\n",
      "release    : 16.6.0\n",
      "machine    : x86_64\n",
      "processor  : i386\n",
      "CPU cores  : 4\n",
      "interpreter: 64bit\n"
     ]
    }
   ],
   "source": [
    "%reset -f\n",
    "import numpy as np\n",
    "import pandas as pd\n",
    "from sklearn.decomposition import PCA\n",
    "\n",
    "from __future__ import division\n",
    "\n",
    "%matplotlib inline\n",
    "import matplotlib.pyplot as plt\n",
    "import seaborn as sns\n",
    "\n",
    "from scipy.stats import ks_2samp\n",
    "\n",
    "import copy\n",
    "%load_ext watermark\n",
    "%watermark -a \"Francesc Font-Clos\" -d -t -v -m -p numpy,pandas,scikit-learn,matplotlib,seaborn,scipy"
   ]
  },
  {
   "cell_type": "markdown",
   "metadata": {},
   "source": [
    "### 2.1 Load gene-expression data for batches 1-4\n",
    "Remember that have already removed batch-effects [in this notebook](1. Two-step SVD-filtering to remove batch \n",
    "effects.ipynb) (you might need to run it before proceeding). So we just load the file we saved, which corresponds to the gene expression data of batches 1 to 4."
   ]
  },
  {
   "cell_type": "code",
   "execution_count": 2,
   "metadata": {
    "collapsed": true
   },
   "outputs": [],
   "source": [
    "geno = pd.read_pickle(\"../output/batches1-4_merged/batch1234_geno.p\")\n",
    "pheno = pd.read_pickle(\"../output/batches1-4_merged/batch1234_pheno.p\")"
   ]
  },
  {
   "cell_type": "markdown",
   "metadata": {},
   "source": [
    "### 2.2 Compute first principal component\n",
    "We compute the first principal component of the genotype dataframe. We also load GeneSymbol annotations."
   ]
  },
  {
   "cell_type": "code",
   "execution_count": 3,
   "metadata": {},
   "outputs": [],
   "source": [
    "v = (PCA(whiten=True,n_components=1).fit(geno)).components_[0]\n",
    "v_df = pd.DataFrame(columns=[\"coef\",\"abs_coef\"],index = geno.columns)\n",
    "v_df[\"coef\"] = v\n",
    "v_df[\"abs_coef\"] = np.abs(v)\n",
    "v_df.sort_values(by=\"abs_coef\",ascending=False,inplace=True)\n",
    "v_df.drop(\"abs_coef\",axis=1,inplace=True)"
   ]
  },
  {
   "cell_type": "code",
   "execution_count": 5,
   "metadata": {},
   "outputs": [],
   "source": [
    "hugo_df = pd.read_table(\"../data/gene_dictionaries/HUGO_official_list_20160613.txt\")\n",
    "entrez_to_genesymb = dict(hugo_df[[\"Entrez Gene ID\",\"Approved Symbol\"]].astype(unicode).applymap(lambda x:x.split(\".\")[0]).values)"
   ]
  },
  {
   "cell_type": "code",
   "execution_count": 6,
   "metadata": {},
   "outputs": [],
   "source": [
    "v_df[\"GeneSymb\"] = v_df.index.map(lambda x:entrez_to_genesymb[x] if x in entrez_to_genesymb.keys() else \"???\")\n",
    "v_df.index.name = \"Entrez\"\n",
    "v_df.set_index(\"GeneSymb\",append=True,inplace=True)"
   ]
  },
  {
   "cell_type": "markdown",
   "metadata": {},
   "source": [
    "So now we have a dataframe with genes in the index and the coefficients of the first principal component of batch1-5 as the only column. We have actually sorted the genes by absolute value of coefficient:"
   ]
  },
  {
   "cell_type": "code",
   "execution_count": 7,
   "metadata": {},
   "outputs": [
    {
     "data": {
      "text/html": [
       "<div>\n",
       "<style>\n",
       "    .dataframe thead tr:only-child th {\n",
       "        text-align: right;\n",
       "    }\n",
       "\n",
       "    .dataframe thead th {\n",
       "        text-align: left;\n",
       "    }\n",
       "\n",
       "    .dataframe tbody tr th {\n",
       "        vertical-align: top;\n",
       "    }\n",
       "</style>\n",
       "<table border=\"1\" class=\"dataframe\">\n",
       "  <thead>\n",
       "    <tr style=\"text-align: right;\">\n",
       "      <th></th>\n",
       "      <th></th>\n",
       "      <th>coef</th>\n",
       "    </tr>\n",
       "    <tr>\n",
       "      <th>Entrez</th>\n",
       "      <th>GeneSymb</th>\n",
       "      <th></th>\n",
       "    </tr>\n",
       "  </thead>\n",
       "  <tbody>\n",
       "    <tr>\n",
       "      <th>1278</th>\n",
       "      <th>COL1A2</th>\n",
       "      <td>-0.131415</td>\n",
       "    </tr>\n",
       "    <tr>\n",
       "      <th>80763</th>\n",
       "      <th>SPX</th>\n",
       "      <td>0.126198</td>\n",
       "    </tr>\n",
       "    <tr>\n",
       "      <th>761</th>\n",
       "      <th>CA3</th>\n",
       "      <td>0.088910</td>\n",
       "    </tr>\n",
       "    <tr>\n",
       "      <th>219348</th>\n",
       "      <th>PLAC9</th>\n",
       "      <td>-0.074152</td>\n",
       "    </tr>\n",
       "    <tr>\n",
       "      <th>25975</th>\n",
       "      <th>EGFL6</th>\n",
       "      <td>-0.073139</td>\n",
       "    </tr>\n",
       "  </tbody>\n",
       "</table>\n",
       "</div>"
      ],
      "text/plain": [
       "                     coef\n",
       "Entrez GeneSymb          \n",
       "1278   COL1A2   -0.131415\n",
       "80763  SPX       0.126198\n",
       "761    CA3       0.088910\n",
       "219348 PLAC9    -0.074152\n",
       "25975  EGFL6    -0.073139"
      ]
     },
     "execution_count": 7,
     "metadata": {},
     "output_type": "execute_result"
    }
   ],
   "source": [
    "v_df.head()"
   ]
  },
  {
   "cell_type": "markdown",
   "metadata": {
    "collapsed": true
   },
   "source": [
    "### 2.3 Set a statistical significance threshold\n",
    "The first principal component of the gene-expression data can be thought of as a direction in gene-space. To set a threshold for statistical significance, we compare the coefficients of the score with those of a random direction in this same space. \n",
    "\n",
    "A random direction in a space of dimension $N$ has standard Gaussian coefficients, see [Muller,1959](http://dl.acm.org/citation.cfm?id=377946). If the norm of our signature vector equals one, then the coefficients of a random direction of the same norm must have variance $1/N$, and thus the distribution of the coefficients of a random direction are Gaussians with standard deviation $\\sigma = 1/\\sqrt{N}$.\n",
    "\n",
    "We then decide to set a threshold of $5\\sigma$, that is, **we keep only those coefficients that are boeyond 5 sigma's** of what we would expect at random."
   ]
  },
  {
   "cell_type": "code",
   "execution_count": 8,
   "metadata": {},
   "outputs": [],
   "source": [
    "N = geno.shape[1]\n",
    "sigma = 1/np.sqrt(N)"
   ]
  },
  {
   "cell_type": "markdown",
   "metadata": {},
   "source": [
    "There are only 38 genes above our $5\\sigma$ threshold. We discard the rest:"
   ]
  },
  {
   "cell_type": "code",
   "execution_count": 9,
   "metadata": {},
   "outputs": [
    {
     "name": "stdout",
     "output_type": "stream",
     "text": [
      "genes beyond threshold: 38\n"
     ]
    }
   ],
   "source": [
    "idx = np.abs(v_df.coef)>5*sigma\n",
    "print \"genes beyond threshold:\",idx.sum()"
   ]
  },
  {
   "cell_type": "code",
   "execution_count": 10,
   "metadata": {},
   "outputs": [],
   "source": [
    "signature = v_df.loc[idx]"
   ]
  },
  {
   "cell_type": "markdown",
   "metadata": {},
   "source": [
    "### 2.4 Plot signature\n",
    "Here we reproduce Figure 1d in the manuscript"
   ]
  },
  {
   "cell_type": "code",
   "execution_count": 11,
   "metadata": {},
   "outputs": [],
   "source": [
    "v_df[\"abscoef\"] = v_df[\"coef\"].apply(np.abs)"
   ]
  },
  {
   "cell_type": "code",
   "execution_count": 12,
   "metadata": {},
   "outputs": [],
   "source": [
    "# do an ensemble of fake signatures\n",
    "tmp = np.array([sorted(np.abs(np.random.normal(size=v_df.shape[0])/np.sqrt(v_df.shape[0]))) for x in range(100)])\n",
    "m=tmp.mean(axis=0)\n",
    "s=tmp.std(axis=0)"
   ]
  },
  {
   "cell_type": "code",
   "execution_count": 13,
   "metadata": {
    "collapsed": true
   },
   "outputs": [],
   "source": [
    "labelsize=16  # fontsize of x,y labels\n",
    "title_size=18  # fontsize of the title       \n",
    "ticks_size=14  # fontsize of numbers in x,y ticks\n",
    "latex_size=18  # fontsize of latex-rendered pval, corr_coef annotations"
   ]
  },
  {
   "cell_type": "code",
   "execution_count": 14,
   "metadata": {},
   "outputs": [
    {
     "data": {
      "image/png": "[encoded data removed]",
      "text/plain": [
       "<matplotlib.figure.Figure at 0x11b180c50>"
      ]
     },
     "metadata": {},
     "output_type": "display_data"
    }
   ],
   "source": [
    "plt.figure(figsize=(6,4))\n",
    "\n",
    "# internal parameters\n",
    "t = range(1,N+1)\n",
    "Ng = 2000\n",
    "mycolor = \"#03589E\"\n",
    "M=20\n",
    "K2=5\n",
    "\n",
    "# MAIN PLOT\n",
    "plt.plot((t[:38]),v_df[\"abscoef\"].values[:38],color=\"black\",linestyle=\"-\",linewidth=\"2\",label=\"SCORE\")\n",
    "plt.plot((t[38:]),v_df[\"abscoef\"].values[38:],color=\"black\",alpha=0.35,linestyle=\"-\",linewidth=\"2\")\n",
    "\n",
    "# SHADOWS\n",
    "for j in [-1,1]:\n",
    "    for K in range(0,M,5):\n",
    "        plt.fill_between(range(Ng),(m+j*(K)*s)[::-1][:Ng],(m+j*(K+5)*s)[::-1][:Ng],\n",
    "                         color=mycolor,linewidth=0,alpha=0.7*(M-K)/M)\n",
    "\n",
    "# RANDOM SIGNATURE\n",
    "plt.plot((m)[::-1][:Ng],color=mycolor,linestyle=\"-\",linewidth=2,label=\"RANDOM SCORE\")\n",
    "\n",
    "# 5-SIGMA THRESHOLD\n",
    "plt.axhline(K2/np.sqrt(v_df.shape[0]),linewidth=1,color=mycolor,linestyle=\"--\",label=\"%d$\\sigma$ threshold\" %K2,)\n",
    "\n",
    "# AXIS\n",
    "plt.ylim([0,.14])\n",
    "plt.xlim([0,200])\n",
    "plt.xlabel(\"Rank-ordered genes\",size=labelsize)\n",
    "plt.ylabel(\"Absolute value of coefficient\",size=labelsize)\n",
    "plt.xticks([1,38,50,100,150,200],size=ticks_size)\n",
    "plt.yticks(size=ticks_size)\n",
    "plt.legend(fontsize=14)\n",
    "\n",
    "plt.savefig(\"../output/figures/Figure1d.pdf\")\n",
    "plt.show()"
   ]
  },
  {
   "cell_type": "markdown",
   "metadata": {
    "collapsed": true
   },
   "source": [
    "### 2.5 Save signature\n",
    "We save the signature in pickled and CSV form, as well as a list of all the genes in the final gene-expression matrix. These are known as the **background** genes, and must be used to correctly identify overrepresented gene sets."
   ]
  },
  {
   "cell_type": "code",
   "execution_count": 15,
   "metadata": {},
   "outputs": [],
   "source": [
    "signature.to_csv(\"../output/signature/signature.csv\")\n",
    "signature.to_pickle(\"../output/signature/signature.p\")"
   ]
  },
  {
   "cell_type": "code",
   "execution_count": 16,
   "metadata": {},
   "outputs": [],
   "source": [
    "np.savetxt(\"../output/batches1-4_merged/background_genes.txt\",v_df.index.get_level_values(0).values,fmt=\"%s\")"
   ]
  },
  {
   "cell_type": "code",
   "execution_count": 18,
   "metadata": {},
   "outputs": [],
   "source": [
    "oldgeno = pd.read_pickle(\"/Users/fran/Documents/batch1234_geno.p\")"
   ]
  },
  {
   "cell_type": "code",
   "execution_count": 20,
   "metadata": {},
   "outputs": [
    {
     "data": {
      "text/plain": [
       "-41.887041218417139"
      ]
     },
     "execution_count": 20,
     "metadata": {},
     "output_type": "execute_result"
    }
   ],
   "source": [
    "oldgeno.iloc[0,0]"
   ]
  },
  {
   "cell_type": "code",
   "execution_count": 21,
   "metadata": {},
   "outputs": [
    {
     "data": {
      "text/plain": [
       "-41.887041218422667"
      ]
     },
     "execution_count": 21,
     "metadata": {},
     "output_type": "execute_result"
    }
   ],
   "source": [
    "geno.iloc[0,0]"
   ]
  },
  {
   "cell_type": "code",
   "execution_count": 24,
   "metadata": {},
   "outputs": [],
   "source": [
    "diffs = geno-oldgeno"
   ]
  },
  {
   "cell_type": "code",
   "execution_count": 25,
   "metadata": {},
   "outputs": [
    {
     "data": {
      "text/plain": [
       "10           2.468425e-11\n",
       "100          1.648459e-12\n",
       "1000         5.471179e-13\n",
       "10000        3.268497e-13\n",
       "10001        2.167155e-13\n",
       "10002        2.842171e-13\n",
       "10003        2.131628e-13\n",
       "10004        2.202682e-13\n",
       "10005        2.344791e-13\n",
       "10007        2.131628e-13\n",
       "10008        1.918465e-13\n",
       "1001         1.705303e-13\n",
       "10010        1.989520e-13\n",
       "10011        1.065814e-13\n",
       "100127950    7.105427e-14\n",
       "100128288    3.268497e-13\n",
       "100128327    2.842171e-13\n",
       "100128653    1.065814e-13\n",
       "100128751    5.684342e-14\n",
       "100128927    1.492140e-13\n",
       "100128988    1.918465e-13\n",
       "100129271    1.705303e-13\n",
       "100129476    8.526513e-14\n",
       "100129482    1.207923e-13\n",
       "10013        8.526513e-14\n",
       "100130428    7.815970e-14\n",
       "100130449    1.065814e-13\n",
       "100130613    9.947598e-14\n",
       "100130717    6.394885e-14\n",
       "100130889    1.207923e-13\n",
       "                 ...     \n",
       "9958         2.842171e-14\n",
       "996          3.552714e-14\n",
       "9960         3.552714e-14\n",
       "9961         1.421085e-14\n",
       "9962         2.131628e-14\n",
       "9963         3.552714e-14\n",
       "9965         2.842171e-14\n",
       "9967         1.421085e-14\n",
       "9968         4.973799e-14\n",
       "9969         2.486900e-14\n",
       "997          1.421085e-14\n",
       "9970         1.421085e-14\n",
       "9971         3.552714e-14\n",
       "9972         2.131628e-14\n",
       "9973         2.131628e-14\n",
       "9975         7.105427e-15\n",
       "9976         3.552714e-14\n",
       "9980         1.421085e-14\n",
       "9982         1.421085e-14\n",
       "9984         4.973799e-14\n",
       "9985         7.105427e-15\n",
       "9987         2.842171e-14\n",
       "9988         2.131628e-14\n",
       "9989         3.197442e-14\n",
       "999          4.263256e-14\n",
       "9990         2.131628e-14\n",
       "9991         4.263256e-14\n",
       "9992         2.131628e-14\n",
       "9994         2.842171e-14\n",
       "9997         3.552714e-14\n",
       "Length: 13684, dtype: float64"
      ]
     },
     "execution_count": 25,
     "metadata": {},
     "output_type": "execute_result"
    }
   ],
   "source": [
    "diffs.max()"
   ]
  },
  {
   "cell_type": "code",
   "execution_count": null,
   "metadata": {
    "collapsed": true
   },
   "outputs": [],
   "source": []
  }
 ],
 "metadata": {
  "kernelspec": {
   "display_name": "Python 2",
   "language": "python",
   "name": "python2"
  },
  "language_info": {
   "codemirror_mode": {
    "name": "ipython",
    "version": 2
   },
   "file_extension": ".py",
   "mimetype": "text/x-python",
   "name": "python",
   "nbconvert_exporter": "python",
   "pygments_lexer": "ipython2",
   "version": "2.7.13"
  }
 },
 "nbformat": 4,
 "nbformat_minor": 1
}
